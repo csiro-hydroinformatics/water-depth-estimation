{
 "cells": [
  {
   "cell_type": "markdown",
   "metadata": {},
   "source": [
    "# Getting Started\n",
    "\n",
    "The notebooks folder contains example logic for TVD, HAND, etc. flood models. There are simple demonstration notebooks for each of the algorithms.\n",
    "\n",
    "| Notebook | Description |\n",
    "|---|---|\n",
    "| water_depth_estimation_HAND | Height Above Nearest Drainage (from Rennó et al, 2008)|\n",
    "| water_depth_estimation_RS_DEM | Floodwater Depth Estimation Tool (Cohen et al. 2017, 2019)|\n",
    "| water_depth_estimation_simplistic | Simplistic bathtub method |\n",
    "| water_depth_estimation_TVD | Teng-Vaze-Dutta (Teng et al, 2013)|\n",
    "\n",
    "The notebooks folder also contains logic for comparing various flood models to observed hydraulic models. For running the hydrological_connectivity modules, please set the \"Notebook File Root\" to the $workspaceFolder (run Jupyter notebook from the root directory rather than the notebooks folder to keep it part of the same package). An example patch is provided and can be customised with .env file parameters.\n",
    "\n",
    "Notebooks to run in order are:\n",
    "\n",
    "1. [calculate_spot_heights.ipynb](./notebooks/calculate_spot_heights.ipynb) - Establishes HAND levels: Extract from hydraulic model levels at upstream and downstream points in reach *not needed if hand levels have already been defined\n",
    "2. [compare_hydraulic_model.ipynb](./notebooks/compare_hydraulic_model.ipynb) - Runs models and compares outputs with hydraulic model outputs\n",
    "3. [generate_report_data.ipynb](./notebooks/generate_report_data.ipynb) - Produces aggregated results: Analyse output grids from comparison and produce statistics for reports\n",
    "4. [generate_reports.ipynb](./notebooks/generate_reports.ipynb) - Generates reports for the comparison data set\n",
    "5. [generate_individual_reports.ipynb](./notebooks/generate_individual_reports.ipynb) - Generate detailed reports on the combined statistics for a model\n",
    "\n",
    "You can either click this button [![Binder](https://mybinder.org/badge_logo.svg)](https://mybinder.org/v2/gh/csiro-hydroinformatics/water-depth-estimation/HEAD?labpath=Getting_Started.ipynb) which launches a hosted lab or build it yourself (see below detials for self hosting).  Please note that the environment utilises many additional packages which will be downloaded and installed.  The build process will take sometime to complete and issues may arise over time as packages change version and unfortunately no longer work together.\n",
    "\n",
    "## Jupyter Lab setup\n",
    "\n",
    "### Jupyter Lab\n",
    "\n",
    "If it has not already been installed you will require [Jupyter Lab](https://jupyterlab.readthedocs.io/en/stable/)\n",
    "\n",
    "### Environment setup\n",
    "When comparing large high resolution datasets numpy can consume reasonable amounts of memory. 32GB of RAM was sufficient when comparing two floodplain products on a 5m resolution grid for a 60km long stretch of floodplain.\n",
    "\n",
    "### Prerequisites\n",
    "Does your computer have `conda` installed and available from a command prompt (check with `where conda` on windows and `which conda` on Linux)? Update it if you need to. ```conda update --all ``` and ```conda update -n base -c defaults conda```\n",
    "\n",
    "Ensure that conda is in the path. For instance, if you installed anaconda3 into ```C:\\Anaconda3```, you will need to add ```C:\\Anaconda3``` as well as ```C:\\Anaconda3\\Scripts\\``` to your path variable, e.g. ```set PATH=%PATH%;C:\\Anaconda3;C:\\Anaconda3\\Scripts\\```.\n",
    "\n",
    "### Env Setup\n",
    "- ```init_refresh_env.bat``` file is used to initialise the environment and refresh it if packages are added.  \n",
    "- Please update the ```environment.yml``` file if utilising new python packages and rerun the ```.bat``` file.\n",
    "\n",
    "- ```start_jupyter.bat``` file is used to activate and start your Jupyter session"
   ]
  },
  {
   "cell_type": "code",
   "execution_count": null,
   "metadata": {
    "vscode": {
     "languageId": "plaintext"
    }
   },
   "outputs": [],
   "source": []
  }
 ],
 "metadata": {
  "language_info": {
   "name": "python"
  },
  "orig_nbformat": 4
 },
 "nbformat": 4,
 "nbformat_minor": 2
}
