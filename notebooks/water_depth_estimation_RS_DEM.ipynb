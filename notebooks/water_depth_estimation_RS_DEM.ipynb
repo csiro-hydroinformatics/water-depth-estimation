{
 "cells": [
  {
   "cell_type": "markdown",
   "metadata": {},
   "source": [
    "  \n",
    "# Water Depth Estimation using Remote Sensing and DEM\n",
    "## FWDET method\n",
    " \n",
    "**Author:** Jin Teng (jin.teng@csiro.au)\n",
    "\n",
    "**Compatability:** Notebook currently compatible with the NCI.\n",
    "\n",
    "**Dependencies:** The code below requires installation of following packages:\n",
    "\n",
    "    rasterio\n",
    "    numpy\n",
    "    scipy\n",
    "    sklearn\n",
    "\n",
    "## Description\n",
    "\n",
    "This water depth estimation tool is inspired by the Floodwater Depth Estimation Tool (FwDET) https://github.com/csdms-contrib/fwdet (Cohen et al. 2017, 2019). It is developed to add value to remote sensing (RS) analysis by calculating\n",
    "water depth based solely on an inundation map with an associated digital elevation model (DEM).\n",
    "\n",
    "The main steps of the algorithm are:\n",
    "\n",
    "    (1) extract the grid cells that lay on the outline of the inundation extent from the raster; \n",
    "    (2) extract the DEM value (elevation) for these grid cells (referred to as boundary grid cells);\n",
    "    (3) interpolate the local floodwater elevation from the boundary grid cells;\n",
    "    (4) calculate floodwater depth by subtracting topographic elevation from local floodwater elevation at each grid cell within the flooded domain.\n",
    "\n",
    "The theory here is very similar to FwDET except step 4 which utilise a geospatial interpolation using sklearn's KNN machine learning algorithm instead of allocating the local floodwater elevation for each grid cell within the flooded domain from its nearest boundary grid cell. This results in a smoother water depth raster and avoids an extra step of smoothing. However, this may cause problems when using a coarse DEM with many outliers at the boundary. The KNN interpolation code is adapted from the skspatial package https://github.com/rosskush/skspatial. It can be computational expensive with large dataset. Testing using larger scale data is underway.\n",
    "\n",
    "We have included a run-down of the tool that is demonstrated in the notebook. \n",
    "\n",
    "## Getting started\n",
    "\n",
    "To run this analysis, run all the cells in the notebook, starting with the \"Load packages\" cell.\n",
    "\n",
    "## Load packages\n",
    "\n",
    "Import Python packages that are used for the analysis.\n"
   ]
  },
  {
   "cell_type": "code",
   "execution_count": null,
   "metadata": {},
   "outputs": [],
   "source": [
    "%matplotlib inline\n",
    "import matplotlib.pyplot as plt\n",
    "import os\n",
    "import time\n",
    "import rasterio\n",
    "import numpy as np\n",
    "from sklearn.neighbors import KNeighborsRegressor\n",
    "from scipy import ndimage\n",
    "from scipy import interpolate"
   ]
  },
  {
   "cell_type": "markdown",
   "metadata": {},
   "source": [
    "## Set input variables"
   ]
  },
  {
   "cell_type": "code",
   "execution_count": null,
   "metadata": {},
   "outputs": [],
   "source": [
    "FloodExtent_tif = os.path.join('data', 'FloodExtent_modified.tif')#'WOFS_clip.tif')\n",
    "DEM_tif = os.path.join('data', 'Elevation.tif')#'dem_clip.tif')\n",
    "WaterDepth_tif = os.path.join('data','output_wd_idw.tif')\n",
    "WOfS_nodata_value = 0\n",
    "WOfS_dry_value = 2\n",
    "WOfS_wet_value = 3"
   ]
  },
  {
   "cell_type": "markdown",
   "metadata": {},
   "source": [
    "## Read flood extent raster"
   ]
  },
  {
   "cell_type": "code",
   "execution_count": null,
   "metadata": {},
   "outputs": [],
   "source": [
    "start_time = time.time()\n",
    "with rasterio.open(FloodExtent_tif) as src:\n",
    "    flood_extent = src.read(1)\n",
    "out_mask = flood_extent!=WOfS_wet_value\n",
    "not_wet = np.where(flood_extent==WOfS_dry_value,1,0)\n",
    "nodata = np.where(flood_extent==WOfS_nodata_value,1,0)\n",
    "print(\"--- %s seconds ---\" % (time.time() - start_time))\n",
    "plt.figure(figsize=(10,8))\n",
    "plt.imshow(flood_extent,cmap='Dark2')\n",
    "plt.colorbar(label='Water occurance')\n",
    "plt.title('Flood Extent map')"
   ]
  },
  {
   "cell_type": "markdown",
   "metadata": {},
   "source": [
    "## Extract outer boundaries"
   ]
  },
  {
   "cell_type": "code",
   "execution_count": null,
   "metadata": {},
   "outputs": [],
   "source": [
    "wet = np.where(flood_extent==WOfS_wet_value,1,0)\n",
    "start_time = time.time()\n",
    "structure1 = np.ones((3,3))\n",
    "bufferred = ndimage.binary_dilation(wet, structure=structure1).astype(int)\n",
    "border = bufferred - wet - nodata\n",
    "border = np.where(border==1,1,0)\n",
    "print(\"--- %s seconds ---\" % (time.time() - start_time))\n",
    "plt.figure(figsize=(10,8))\n",
    "plt.imshow(border,cmap='binary')\n",
    "plt.colorbar()"
   ]
  },
  {
   "cell_type": "markdown",
   "metadata": {},
   "source": [
    "## Extract inner boundaries"
   ]
  },
  {
   "cell_type": "code",
   "execution_count": null,
   "metadata": {},
   "outputs": [],
   "source": [
    "start_time = time.time()\n",
    "structure1 = np.ones((3,3))\n",
    "bufferred = ndimage.binary_dilation(not_wet, structure=structure1).astype(int)\n",
    "border = bufferred - not_wet - nodata\n",
    "border = np.where(border==1,1,0)\n",
    "print(\"--- %s seconds ---\" % (time.time() - start_time))\n",
    "plt.figure(figsize=(10,8))\n",
    "plt.imshow(border,cmap='binary')\n",
    "plt.colorbar()"
   ]
  },
  {
   "cell_type": "markdown",
   "metadata": {},
   "source": [
    "## Read DEM"
   ]
  },
  {
   "cell_type": "code",
   "execution_count": null,
   "metadata": {},
   "outputs": [],
   "source": [
    "with rasterio.open(DEM_tif) as src_dem:\n",
    "    dem = src_dem.read(1, masked = True)\n",
    "plt.figure(figsize=(10,8))\n",
    "plt.imshow(dem,cmap='jet')\n",
    "plt.colorbar()"
   ]
  },
  {
   "cell_type": "markdown",
   "metadata": {},
   "source": [
    "## Extract DEM values using the outline\n",
    "\n",
    "**To do: make sure the flood extent image and dem have the same projection and shape to save time on warping.**"
   ]
  },
  {
   "cell_type": "code",
   "execution_count": null,
   "metadata": {},
   "outputs": [],
   "source": [
    "start_time = time.time()\n",
    "dem_extract = border * dem\n",
    "dem_extract[dem_extract<0]=0\n",
    "dem_extract =np.ma.masked_where(dem_extract==0.0, dem_extract)\n",
    "print(\"--- %s seconds ---\" % (time.time() - start_time))\n",
    "plt.figure(figsize=(10,8))\n",
    "plt.imshow(dem_extract,cmap='jet')\n",
    "plt.colorbar()\n",
    "\n",
    "# with rasterio.open(\n",
    "#     os.path.join('data','floodline_dem_extract_new.tif'), 'w',\n",
    "#     driver='GTiff',\n",
    "#     dtype=rasterio.float64,\n",
    "#     count=1,\n",
    "#     nodata=0,\n",
    "#     transform = src_dem.affine,\n",
    "#     width=src_dem.width,\n",
    "#     height=src_dem.height) as dst:\n",
    "#     dst.write(dem_extract, indexes=1)"
   ]
  },
  {
   "cell_type": "markdown",
   "metadata": {},
   "source": [
    "## Interpolation using KNN"
   ]
  },
  {
   "cell_type": "code",
   "execution_count": null,
   "metadata": {},
   "outputs": [],
   "source": [
    "start_time = time.time()\n",
    "array = dem_extract.data\n",
    "X = []\n",
    "nrow, ncol = array.shape\n",
    "frow, fcol = np.where(array > 0) # find areas where values exist\n",
    "for i in range(len(frow)):\n",
    "    X.append([frow[i], fcol[i]])\n",
    "y = array[frow, fcol]\n",
    "\n",
    "train_X, train_y = X, y\n",
    "k=5\n",
    "weights='distance'\n",
    "algorithm='brute'\n",
    "knn = KNeighborsRegressor(n_neighbors=k, weights=weights, algorithm=algorithm, p=2)\n",
    "knn.fit(train_X, train_y)\n",
    "\n",
    "X_pred = []\n",
    "for r in range(int(nrow)):\n",
    "    for c in range(int(ncol)):\n",
    "        X_pred.append([r, c])\n",
    "y_pred = knn.predict(np.array(X_pred))\n",
    "karray = np.zeros((nrow, ncol))\n",
    "i = 0\n",
    "for r in range(int(nrow)):\n",
    "    for c in range(int(ncol)):\n",
    "        karray[r, c] = y_pred[i]\n",
    "        i += 1\n",
    "print(\"--- %s seconds ---\" % (time.time() - start_time))\n",
    "\n",
    "karray =np.ma.masked_where(out_mask, karray)\n",
    "fig, axes = plt.subplots(figsize=(10,8))\n",
    "plt.imshow(karray, cmap='jet')\n",
    "plt.colorbar()\n",
    "plt.title('z value\\n')\n",
    "fig.tight_layout()\n",
    "CS = plt.contour(karray)\n",
    "plt.clabel(CS, inline=1,\n",
    "           fmt='%1.1f',\n",
    "           fontsize=14)\n",
    "axes.set_title('KNN')"
   ]
  },
  {
   "cell_type": "raw",
   "metadata": {},
   "source": []
  },
  {
   "cell_type": "markdown",
   "metadata": {},
   "source": [
    "## Estimate water depth \n",
    "\n",
    "Substracting ground elevation from interpolated flood water surface elevation"
   ]
  },
  {
   "cell_type": "code",
   "execution_count": null,
   "metadata": {},
   "outputs": [],
   "source": [
    "#Interpolated floodwater elevation minus DEM\n",
    "start_time = time.time()\n",
    "water_depth = karray - dem\n",
    "water_depth[water_depth<0] = 0\n",
    "water_depth =np.ma.masked_where(out_mask, water_depth)\n",
    "water_depth[water_depth.mask]=np.nan\n",
    "print(\"--- %s seconds ---\" % (time.time() - start_time))\n",
    "plt.figure(figsize=(10,8))\n",
    "plt.imshow(water_depth, cmap='terrain', interpolation='bilinear', vmin=-1)\n",
    "plt.colorbar();\n",
    "plt.title('Water Depth');"
   ]
  },
  {
   "cell_type": "markdown",
   "metadata": {},
   "source": [
    "## Intetpolation using linear interpolation"
   ]
  },
  {
   "cell_type": "code",
   "execution_count": null,
   "metadata": {},
   "outputs": [],
   "source": [
    "start_time = time.time()\n",
    "array = dem_extract\n",
    "nrow, ncol = array.shape\n",
    "x = np.arange(0, ncol)\n",
    "y = np.arange(0, nrow)\n",
    "# mask invalid values\n",
    "array = np.ma.masked_invalid(array)\n",
    "xx, yy = np.meshgrid(x, y)\n",
    "# get only the valid values\n",
    "x1 = xx[~array.mask]\n",
    "y1 = yy[~array.mask]\n",
    "newarr = array[~array.mask]\n",
    "GD1 = interpolate.griddata((x1, y1), newarr.ravel(), (xx, yy), method='linear',fill_value=np.nan)\n",
    "print(\"--- %s seconds ---\" % (time.time() - start_time))\n",
    "\n",
    "GD1 =np.ma.masked_where(out_mask, GD1)\n",
    "fig, axes = plt.subplots(figsize=(10,8))\n",
    "plt.imshow(GD1, cmap='jet')\n",
    "plt.colorbar()\n",
    "plt.title('z value\\n')\n",
    "fig.tight_layout()\n",
    "CS = plt.contour(GD1)\n",
    "plt.clabel(CS, inline=1,\n",
    "           fmt='%1.1f',\n",
    "           fontsize=14)\n",
    "axes.set_title('Linear')"
   ]
  },
  {
   "cell_type": "markdown",
   "metadata": {},
   "source": [
    "## Estimate water depth \n",
    "\n",
    "Substracting ground elevation from interpolated flood water surface elevation"
   ]
  },
  {
   "cell_type": "code",
   "execution_count": null,
   "metadata": {},
   "outputs": [],
   "source": [
    "#Interpolated floodwater elevation minus DEM\n",
    "start_time = time.time()\n",
    "if np.any(np.isnan(GD1)):\n",
    "    GD1[np.isnan(GD1)]=dem[np.isnan(GD1)]\n",
    "water_depth_l = GD1 - dem\n",
    "water_depth_l[water_depth_l<0] = 0\n",
    "water_depth_l =np.ma.masked_where(out_mask, water_depth_l)\n",
    "water_depth_l[water_depth_l.mask]=np.nan\n",
    "print(\"--- %s seconds ---\" % (time.time() - start_time))\n",
    "plt.figure(figsize=(10,8))\n",
    "plt.imshow(water_depth_l, cmap='terrain', interpolation='bilinear', vmin=-1)\n",
    "plt.colorbar();\n",
    "plt.title('Water Depth');"
   ]
  },
  {
   "cell_type": "markdown",
   "metadata": {},
   "source": [
    "## Compare the two interpolation methods"
   ]
  },
  {
   "cell_type": "code",
   "execution_count": null,
   "metadata": {},
   "outputs": [],
   "source": [
    "knn_extract = border * karray\n",
    "print(\"KNN border difference: %s\" % np.nanmax(np.abs(dem_extract.data-knn_extract.data)))\n",
    "\n",
    "GD1_extract = border * GD1\n",
    "print(\"Linear border difference: %s\" % np.nanmax(np.abs(dem_extract.data-GD1_extract.data)))\n",
    "\n",
    "plt.figure(figsize=(10,8))\n",
    "#plt.imshow(karray-GD1,cmap='jet')\n",
    "plt.imshow(np.abs(water_depth-water_depth_l),cmap='Accent')\n",
    "plt.colorbar()"
   ]
  },
  {
   "cell_type": "markdown",
   "metadata": {},
   "source": [
    "## Write output"
   ]
  },
  {
   "cell_type": "code",
   "execution_count": null,
   "metadata": {},
   "outputs": [],
   "source": [
    "with rasterio.open(\n",
    "    WaterDepth_tif, 'w',\n",
    "    driver='GTiff',\n",
    "    dtype=water_depth_l.dtype,\n",
    "    count=1,\n",
    "    nodata=np.nan,\n",
    "    transform = src_dem.transform,\n",
    "    width=src_dem.width,\n",
    "    height=src_dem.height) as dst:\n",
    "    dst.write(water_depth_l, indexes=1)"
   ]
  },
  {
   "cell_type": "code",
   "execution_count": null,
   "metadata": {},
   "outputs": [],
   "source": []
  }
 ],
 "metadata": {
  "kernelspec": {
   "display_name": "Python 3 (ipykernel)",
   "language": "python",
   "name": "python3"
  },
  "language_info": {
   "codemirror_mode": {
    "name": "ipython",
    "version": 3
   },
   "file_extension": ".py",
   "mimetype": "text/x-python",
   "name": "python",
   "nbconvert_exporter": "python",
   "pygments_lexer": "ipython3",
   "version": "3.7.12"
  }
 },
 "nbformat": 4,
 "nbformat_minor": 4
}
