{
 "cells": [
  {
   "cell_type": "markdown",
   "metadata": {},
   "source": [
    "# Compare the results of a set of runs"
   ]
  },
  {
   "cell_type": "code",
   "execution_count": null,
   "metadata": {},
   "outputs": [],
   "source": [
    "\n",
    "import os\n",
    "from pathlib import Path\n",
    "example_output_folder = os.environ['OUTPUT_FOLDER']\n",
    "path = Path(example_output_folder)\n",
    "parent_output_folder = path.parent.absolute()\n",
    "print(parent_output_folder)\n"
   ]
  },
  {
   "cell_type": "code",
   "execution_count": null,
   "metadata": {},
   "outputs": [],
   "source": [
    "import glob\n",
    "rmse_results = glob.glob(str(parent_output_folder) + os.path.sep +\n",
    "          \"**\" + os.path.sep + \"rmse_resul[st][st].csv\")\n",
    "print(rmse_results)"
   ]
  },
  {
   "cell_type": "code",
   "execution_count": null,
   "metadata": {},
   "outputs": [],
   "source": [
    "import pandas\n",
    "rmse_result_dfs = [pandas.read_csv(rmse_result,index_col=0).assign(run = Path(rmse_result).parent.name) for rmse_result in rmse_results]\n",
    "rmse_result_df = pandas.concat(rmse_result_dfs, ignore_index=False)"
   ]
  },
  {
   "cell_type": "code",
   "execution_count": null,
   "metadata": {},
   "outputs": [],
   "source": [
    "rmse_result_df[\"model\"].unique()"
   ]
  },
  {
   "cell_type": "code",
   "execution_count": null,
   "metadata": {},
   "outputs": [],
   "source": [
    "rmse_comparison = rmse_result_df[(rmse_result_df[\"depth-range\"] == \"all\") & \n",
    "    (rmse_result_df[\"metric\"] == \"mean_absolute_error\") & \n",
    "    (rmse_result_df[\"model\"].isin(['FwDET', 'TVD (ind)', 'HAND (best MAE)']))\n",
    "    & (rmse_result_df['run'].isin(['Run18_Lidar_SA','Run8_SRTM_ByDepth','Run12_Copernicus_5m', 'Run13_FABDEM_5m', 'Run14_MERIT_5m']))\n",
    "].groupby([\"run\", \"model\"]).median()\n",
    "rmse_comparison['Median mean_absolute_error']= rmse_comparison['value']\n",
    "del rmse_comparison['value']\n",
    "display(rmse_comparison.unstack().sort_values(by=('Median mean_absolute_error','FwDET')))\n",
    "\n",
    "rmse_comparison = rmse_result_df[(rmse_result_df[\"depth-range\"] == \"all\") & \n",
    "                                 (rmse_result_df[\"metric\"] == \"mean_absolute_error\") &\n",
    "    (rmse_result_df[\"model\"].isin(['FwDET', 'TVD (ind)', 'HAND (best MAE)']))\n",
    "    & (rmse_result_df['run'].isin(['Run18_Lidar_SA', 'Run8_SRTM_ByDepth', 'Run12_Copernicus_5m', 'Run13_FABDEM_5m', 'Run14_MERIT_5m']))\n",
    "    ].groupby([\"run\", \"model\"]).mean()\n",
    "rmse_comparison['Mean mean_absolute_error']= rmse_comparison['value']\n",
    "del rmse_comparison['value']\n",
    "display(rmse_comparison.unstack().sort_values(by=('Mean mean_absolute_error','FwDET')))\n"
   ]
  },
  {
   "cell_type": "code",
   "execution_count": null,
   "metadata": {},
   "outputs": [],
   "source": [
    "rmse_comparison = rmse_result_df[(rmse_result_df[\"depth-range\"] == \"all\") & \n",
    "    (rmse_result_df[\"metric\"] == \"root_mean_squared_error\") & \n",
    "    (rmse_result_df[\"model\"].isin(['FwDET', 'TVD (ind)', 'HAND (best MAE)']))\n",
    "    & (rmse_result_df['run'].isin(['Run18_Lidar_SA','Run8_SRTM_ByDepth','Run12_Copernicus_5m', 'Run13_FABDEM_5m', 'Run14_MERIT_5m']))\n",
    "].groupby([\"run\", \"model\"]).median()\n",
    "rmse_comparison['Median RMSE']= rmse_comparison['value']\n",
    "del rmse_comparison['value']\n",
    "display(rmse_comparison.unstack().sort_values(by=('Median RMSE','FwDET')))\n",
    "\n",
    "rmse_comparison = rmse_result_df[(rmse_result_df[\"depth-range\"] == \"all\") & \n",
    "    (rmse_result_df[\"metric\"] == \"root_mean_squared_error\") & \n",
    "    (rmse_result_df[\"model\"].isin(['FwDET', 'TVD (ind)', 'HAND (best MAE)']))\n",
    "    & (rmse_result_df['run'].isin(['Run18_Lidar_SA', 'Run8_SRTM_ByDepth', 'Run12_Copernicus_5m', 'Run13_FABDEM_5m', 'Run14_MERIT_5m']))\n",
    "    ].groupby([\"run\", \"model\"]).mean()\n",
    "rmse_comparison['Mean RMSE']= rmse_comparison['value']\n",
    "del rmse_comparison['value']\n",
    "display(rmse_comparison.unstack().sort_values(by=('Mean RMSE','FwDET')))\n"
   ]
  },
  {
   "cell_type": "code",
   "execution_count": null,
   "metadata": {},
   "outputs": [],
   "source": [
    "rmse_comparison = rmse_result_df[(rmse_result_df[\"depth-range\"] == \"all\") & \n",
    "    (rmse_result_df[\"metric\"] == \"mean_absolute_error\") & \n",
    "    (rmse_result_df[\"model\"].isin(['FwDET', 'TVD (ind)', 'HAND (best MAE)']))\n",
    "    & (rmse_result_df['run'].isin(['Run21_Lidar_Baseline', 'Run22_FABDEM_5m', 'Run23_MERIT_5m', 'Run24_SRTM_5m', 'Run25_Copernicus_5m','Run26_Lidar_FocalStat']))\n",
    "    ].groupby([\"run\", \"model\"]).median()\n",
    "rmse_comparison['Median mean_absolute_error']= rmse_comparison['value']\n",
    "del rmse_comparison['value']\n",
    "display(rmse_comparison.unstack().sort_values(by=('Median mean_absolute_error','FwDET')))\n",
    "\n",
    "rmse_comparison = rmse_result_df[(rmse_result_df[\"depth-range\"] == \"all\") & \n",
    "                                 (rmse_result_df[\"metric\"] == \"mean_absolute_error\") &\n",
    "    (rmse_result_df[\"model\"].isin(['FwDET', 'TVD (ind)', 'HAND (best MAE)']))\n",
    "    & (rmse_result_df['run'].isin(['Run21_Lidar_Baseline', 'Run22_FABDEM_5m', 'Run23_MERIT_5m', 'Run24_SRTM_5m','Run25_Copernicus_5m','Run26_Lidar_FocalStat']))\n",
    "    ].groupby([\"run\", \"model\"]).mean()\n",
    "rmse_comparison['Mean mean_absolute_error'] = rmse_comparison['value']\n",
    "del rmse_comparison['value']\n",
    "display(rmse_comparison.unstack().sort_values(by=('Mean mean_absolute_error','FwDET')))\n"
   ]
  },
  {
   "cell_type": "code",
   "execution_count": null,
   "metadata": {},
   "outputs": [],
   "source": [
    "rmse_comparison = rmse_result_df[(rmse_result_df[\"depth-range\"] == \"all\") & \n",
    "    (rmse_result_df[\"metric\"] == \"root_mean_squared_error\") & \n",
    "    (rmse_result_df[\"model\"].isin(['FwDET', 'TVD (ind)', 'HAND (best MAE)']))\n",
    "    & (rmse_result_df['run'].isin(['Run21_Lidar_Baseline', 'Run22_FABDEM_5m', 'Run23_MERIT_5m', 'Run24_SRTM_5m','Run25_Copernicus_5m']))\n",
    "    ].groupby([\"run\", \"model\"]).median()\n",
    "rmse_comparison['Median RMSE']= rmse_comparison['value']\n",
    "del rmse_comparison['value']\n",
    "display(rmse_comparison.unstack().sort_values(by=('Median RMSE','FwDET')))\n",
    "\n",
    "rmse_comparison = rmse_result_df[(rmse_result_df[\"depth-range\"] == \"all\") & \n",
    "    (rmse_result_df[\"metric\"] == \"root_mean_squared_error\") & \n",
    "    (rmse_result_df[\"model\"].isin(['FwDET', 'TVD (ind)', 'HAND (best MAE)']))\n",
    "    & (rmse_result_df['run'].isin(['Run21_Lidar_Baseline', 'Run22_FABDEM_5m', 'Run23_MERIT_5m', 'Run24_SRTM_5m','Run25_Copernicus_5m']))\n",
    "    ].groupby([\"run\", \"model\"]).mean()\n",
    "rmse_comparison['Mean RMSE']= rmse_comparison['value']\n",
    "del rmse_comparison['value']\n",
    "display(rmse_comparison.unstack().sort_values(by=('Mean RMSE','FwDET')))\n"
   ]
  },
  {
   "cell_type": "code",
   "execution_count": null,
   "metadata": {},
   "outputs": [],
   "source": [
    "rmse_comparison = rmse_result_df[(rmse_result_df[\"depth-range\"] == \"all\") & (rmse_result_df[\"metric\"]\n",
    "    == \"root_mean_squared_error\") & (rmse_result_df[\"model\"]\n",
    "    == \"FwDET\")].groupby([\"run\"]).median()\n",
    "display(\"MEDIAN\")\n",
    "display(rmse_comparison)\n",
    "rmse_comparison = rmse_result_df[(rmse_result_df[\"depth-range\"] == \"all\") & (rmse_result_df[\"metric\"]\n",
    "    == \"root_mean_squared_error\") & (rmse_result_df[\"model\"]\n",
    "    == \"FwDET\")].groupby([\"run\"]).mean()\n",
    "display(\"MEAN\")\n",
    "display(rmse_comparison)"
   ]
  },
  {
   "cell_type": "code",
   "execution_count": null,
   "metadata": {},
   "outputs": [],
   "source": [
    "rmse_result_df[\"depth-range\"]\n"
   ]
  },
  {
   "cell_type": "code",
   "execution_count": null,
   "metadata": {},
   "outputs": [],
   "source": [
    "selected = rmse_result_df[((rmse_result_df[\"depth-range\"] == \"2 <= d < 4\") | (rmse_result_df[\"depth-range\"] == \"d < 2\")) & (rmse_result_df[\"metric\"]\n",
    "    == \"root_mean_squared_error\") & (rmse_result_df[\"model\"]\n",
    "                                     == \"FwDET\") & rmse_result_df[\"run\"].isin([\"Run15_Lidar_5b_by_elev\", \"Run8_SRTM_ByDepth\", \"Run12_Copernicus_5m\", \"Run13_FABDEM_5m\", \"Run14_MERIT_5m\"])].groupby([\"run\", \"model\", \"metric\"]).median()\n",
    "\n",
    "selected.sort_values(\"value\")\n"
   ]
  },
  {
   "cell_type": "code",
   "execution_count": null,
   "metadata": {},
   "outputs": [],
   "source": [
    "selected = rmse_result_df[(rmse_result_df[\"depth-range\"] == \"d >= 4\") & (rmse_result_df[\"metric\"]\n",
    "    == \"root_mean_squared_error\") & (rmse_result_df[\"model\"]\n",
    "                                     == \"FwDET\") & rmse_result_df[\"run\"].isin([\"Run15_Lidar_5b_by_elev\", \"Run8_SRTM_ByDepth\", \"Run12_Copernicus_5m\", \"Run13_FABDEM_5m\", \"Run14_MERIT_5m\"])].groupby([\"run\", \"model\", \"metric\"]).median()\n",
    "\n",
    "selected.sort_values(\"value\")\n"
   ]
  },
  {
   "cell_type": "code",
   "execution_count": null,
   "metadata": {},
   "outputs": [],
   "source": [
    "selected = rmse_result_df[(rmse_result_df[\"depth-range\"] == \"all\") & (rmse_result_df[\"metric\"]\n",
    "                                                                      == \"root_mean_squared_error\") & (rmse_result_df[\"model\"].isin([\"FwDET\", \"TVD (ind)\", \"HAND (best MAE)\"])\n",
    "                                                                                                       ) & rmse_result_df[\"run\"].isin([  # \"Run15_Lidar_5b_by_elev\", \"Run8_SRTM_ByDepth\", \"Run12_Copernicus_5m\", \"Run13_FABDEM_5m\", \"Run14_MERIT_5m\",'Run19_Lidar_HydraulicModelInput',\n",
    "                                                                                                        'Run18_Lidar_SA', \"Run20_Lidar_CompareAllCells\"])].groupby([\"run\", \"model\", \"metric\"]).median()\n",
    "\n",
    "selected.sort_index()\n"
   ]
  },
  {
   "cell_type": "code",
   "execution_count": null,
   "metadata": {},
   "outputs": [],
   "source": [
    "from datetime import datetime\n",
    "date_str = datetime.now().isoformat().replace(\":\", \".\")\n",
    "selected.sort_index().to_csv(str(parent_output_folder) +\n",
    "                f'{os.path.sep}aggregate_rmse_{date_str}.csv')\n"
   ]
  },
  {
   "cell_type": "code",
   "execution_count": null,
   "metadata": {},
   "outputs": [],
   "source": []
  }
 ],
 "metadata": {
  "interpreter": {
   "hash": "4c4f0e51b7554e248cceb5c2b9173e48e1ec03b89cb2754c7ccf7e560e9a5cb6"
  },
  "kernelspec": {
   "display_name": "Python 3.9.6 ('my_v3_geo_env')",
   "language": "python",
   "name": "python3"
  },
  "language_info": {
   "codemirror_mode": {
    "name": "ipython",
    "version": 3
   },
   "file_extension": ".py",
   "mimetype": "text/x-python",
   "name": "python",
   "nbconvert_exporter": "python",
   "pygments_lexer": "ipython3",
   "version": "3.9.6"
  },
  "orig_nbformat": 4
 },
 "nbformat": 4,
 "nbformat_minor": 2
}
