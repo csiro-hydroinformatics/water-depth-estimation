{
 "cells": [
  {
   "cell_type": "markdown",
   "metadata": {},
   "source": [
    "This notebook produces maps for each of the reaches compared. generate_report_data.ipynb needs to be run before this will work"
   ]
  },
  {
   "cell_type": "code",
   "execution_count": null,
   "metadata": {},
   "outputs": [],
   "source": [
    "import dotenv\n",
    "import os\n",
    "from dotenv import load_dotenv\n",
    "load_dotenv()\n",
    "import logging\n",
    "\n",
    "logging.getLogger().setLevel('WARNING')\n",
    "\n",
    "output_folder = os.environ['OUTPUT_FOLDER']\n",
    "output_folder\n"
   ]
  },
  {
   "cell_type": "code",
   "execution_count": null,
   "metadata": {},
   "outputs": [],
   "source": [
    "from hydrological_connectivity.definitions.definitions_generator_factory import DefinitionsGeneratorFactory\n",
    "from hydrological_connectivity.processing.model_result_aggregator import ModelResultAggregator\n",
    "import logging\n",
    "from hydrological_connectivity.definitions.model_definitions import DepthModelType, ModelDefinitions\n",
    "from hydrological_connectivity.postprocessing.model_benchmark_cards import ModelBenchmarkCards\n",
    "logging.getLogger().setLevel('WARNING')\n",
    "\n",
    "\n",
    "model_types = ModelDefinitions.get_model_definitions()\n",
    "# display(model_types)\n",
    "\n",
    "exclude_1956 = [\"1956\"]\n",
    "exclude_non_1956 = ['LBS - Culgoa FP South',\n",
    "                    'LBS - Culgoa FP North',\n",
    "                    'LBS - Narran River',\n",
    "                    'LBS - St George',\n",
    "                    'Namoi - DS Mollee',\n",
    "                    'Namoi - Boolcarroll',\n",
    "                    'Namoi - DS Gunidgera',\n",
    "                    'Namoi - Merah North', '2013', '2016']\n",
    "\n",
    "# exclude_list = exclude_non_1956\n",
    "exclude_list = exclude_1956\n",
    "definition = DefinitionsGeneratorFactory.get_generator(exclude_list)\n",
    "\n"
   ]
  },
  {
   "cell_type": "code",
   "execution_count": null,
   "metadata": {},
   "outputs": [],
   "source": [
    "definition.generate()\n"
   ]
  },
  {
   "cell_type": "code",
   "execution_count": null,
   "metadata": {},
   "outputs": [],
   "source": [
    "\n",
    "definition.simple_outputs[0]"
   ]
  },
  {
   "cell_type": "code",
   "execution_count": null,
   "metadata": {},
   "outputs": [],
   "source": [
    "import pickle\n",
    "\n",
    "output = open(\n",
    "    f'{output_folder}{os.path.sep}product_results.pkl', 'rb')\n",
    "product_results = pickle.load(output)\n",
    "output.close()\n",
    "output = open(\n",
    "    f'{output_folder}{os.path.sep}overall_results.pkl', 'rb')\n",
    "overall_results = pickle.load(output)\n",
    "output.close()\n",
    "output = open(\n",
    "    f'{output_folder}{os.path.sep}overall_metrics.pkl', 'rb')\n",
    "overall_metrics = pickle.load(output)\n",
    "output.close()\n"
   ]
  },
  {
   "cell_type": "code",
   "execution_count": null,
   "metadata": {},
   "outputs": [],
   "source": [
    "p_selected = {k: v for k, v in product_results.items() if \n",
    "              (k.depth_model_type == DepthModelType.FwDET) or\n",
    "              (k.depth_model_type == DepthModelType.TVD and k.depth_model_params['seperation_of_waterbodies'] == 'ind')\n",
    "    or ('accumulation_threshold' in k.depth_model_params and type(k.depth_model_params['accumulation_threshold'])==dict and 'best MAE' in k.depth_model_params['accumulation_threshold'])}\n",
    "scene_list = list(list(p_selected.values())[0].keys())\n"
   ]
  },
  {
   "cell_type": "code",
   "execution_count": null,
   "metadata": {},
   "outputs": [],
   "source": [
    "scene_id = scene_list[0]\n"
   ]
  },
  {
   "cell_type": "code",
   "execution_count": null,
   "metadata": {},
   "outputs": [],
   "source": [
    "selected_model_scene = {model:scene_values[scene_id] for (model,scene_values) in p_selected.items()}"
   ]
  },
  {
   "cell_type": "code",
   "execution_count": null,
   "metadata": {},
   "outputs": [],
   "source": [
    "aggregator_lookup= {}\n",
    "aggregator_outputs = {}\n",
    "last_outputs=[]\n",
    "for model in p_selected.keys():\n",
    "    model_result_aggregator = ModelResultAggregator(\n",
    "        definition, model)\n",
    "    aggregator_lookup[model] = model_result_aggregator\n",
    "    aggregator_outputs[model] = model_result_aggregator.identified_outputs\n",
    "    last_outputs = model_result_aggregator.identified_outputs\n",
    "\n",
    "\n"
   ]
  },
  {
   "cell_type": "code",
   "execution_count": null,
   "metadata": {},
   "outputs": [],
   "source": [
    "\n",
    "def set_map_font_size(self, small=8, medium=10, large=12):\n",
    "    SMALL_SIZE = small\n",
    "    MEDIUM_SIZE = medium\n",
    "    BIGGER_SIZE = large\n",
    "\n",
    "    pyplot.style.use('seaborn-white')\n",
    "\n",
    "    # controls default text sizes\n",
    "    pyplot.rc('font', size=SMALL_SIZE)\n",
    "    # fontsize of the axes title\n",
    "    pyplot.rc('axes', titlesize=SMALL_SIZE)\n",
    "    # fontsize of the x and y labels\n",
    "    pyplot.rc('axes', labelsize=MEDIUM_SIZE)\n",
    "    # fontsize of the tick labels\n",
    "    pyplot.rc('xtick', labelsize=SMALL_SIZE)\n",
    "    # fontsize of the tick labels\n",
    "    pyplot.rc('ytick', labelsize=SMALL_SIZE)\n",
    "    pyplot.rc('legend', fontsize=SMALL_SIZE)    # legend fontsize\n",
    "    # fontsize of the figure title\n",
    "    pyplot.rc('figure', titlesize=BIGGER_SIZE)"
   ]
  },
  {
   "cell_type": "code",
   "execution_count": null,
   "metadata": {},
   "outputs": [],
   "source": [
    "from mpl_toolkits.axes_grid1.inset_locator import inset_axes\n",
    "from matplotlib import colorbar\n",
    "from matplotlib import colors, cm\n",
    "import seaborn\n",
    "import numpy\n",
    "from matplotlib import pyplot, ticker\n",
    "from rasterio.plot import show\n",
    "import os.path\n",
    "import logging\n",
    "\n",
    "for output_number in range(len(last_outputs)):\n",
    "    print(output_number)\n",
    "\n",
    "    model_results = {}\n",
    "    for model in p_selected.keys():\n",
    "        model_result_aggregator = ModelResultAggregator(\n",
    "            definition, model)\n",
    "        model_result_aggregator.identified_outputs = model_result_aggregator.identified_outputs[\n",
    "            output_number:output_number+1]\n",
    "        task = model_result_aggregator.produce_stats()\n",
    "        model_results[model] = task[0]\n",
    "\n",
    "    seaborn.set_theme(style=\"whitegrid\")\n",
    "    cmap = pyplot.get_cmap('RdYlBu')\n",
    "\n",
    "    aim_width = (8.3-1)\n",
    "    aim_height = task[0][\"stats\"].comparison.shape[0] / \\\n",
    "        task[0][\"stats\"].comparison.shape[1]*aim_width\n",
    "\n",
    "    fig, axes_array = pyplot.subplots(\n",
    "        nrows=2, ncols=2, figsize=(aim_width, aim_height), dpi=300, gridspec_kw={'left': 0, 'right': 1, 'top': 1, 'bottom': 0, 'wspace': 0, 'hspace': 0}, constrained_layout=False, frameon=False)\n",
    "\n",
    "    axes_list = [axes_array[0][0], axes_array[1]\n",
    "                [0], axes_array[0][1], axes_array[1][1]]\n",
    "\n",
    "    model_results_list = list(model_results.items())\n",
    "    model_results_list.reverse()\n",
    "    subcaption = ['a) ', 'b) ', 'c) ']\n",
    "\n",
    "    for map_index in range(3):\n",
    "        ax = axes_list[map_index]\n",
    "        (model, result) = model_results_list[map_index]\n",
    "        show(result[\"stats\"].comparison, transform=result[\"stats\"].comp_transform, interpolation='nearest',\n",
    "            cmap=cmap, vmin=-2, vmax=2, ax=ax)\n",
    "        ax.set_title(subcaption[map_index] +\n",
    "                    str(model.depth_model_type.name), y=0.85)\n",
    "        ax.tick_params(axis='y', direction='in', pad=-10)\n",
    "        ax.tick_params(axis='x', direction='in', pad=-10)\n",
    "        for pos in ['top', 'bottom', 'right', 'left']:\n",
    "            ax.spines[pos].set_edgecolor('black')\n",
    "            ax.spines[pos].set_linewidth(0.5)\n",
    "        ax.grid(linewidth=0.5)\n",
    "        ax.xaxis.set_major_formatter(\n",
    "            ticker.FuncFormatter(lambda tick_val, tick_pos: f'{tick_val // 10000:.0f}{tick_val % 10000:04.0f}'))\n",
    "        ax.yaxis.set_major_formatter(\n",
    "            ticker.FuncFormatter(lambda tick_val, tick_pos: f'{tick_val // 10000:.0f}{tick_val % 10000:04.0f}'))\n",
    "        ax.get_xaxis().set_major_locator(ticker.MaxNLocator(5))\n",
    "        ax.get_yaxis().set_major_locator(ticker.MaxNLocator(4))\n",
    "        ax.tick_params(axis='both', which='major', labelsize=4)\n",
    "        for tick in ax.get_yticklabels():\n",
    "            tick.set_rotation(90)\n",
    "            tick.set_va('center')\n",
    "\n",
    "    ax = axes_list[3]\n",
    "    ax.axis('off')\n",
    "    # width=\"7%\", height=\"85%\", loc=1)\n",
    "    cbaxes = ax.inset_axes([0.05, 0.85, 0.9, 0.07])\n",
    "    cb = fig.colorbar(cm.ScalarMappable(norm=colors.Normalize(\n",
    "        vmin=-2, vmax=2), cmap=cmap), cax=cbaxes, orientation='horizontal', label='Truth minus predicted')\n",
    "\n",
    "    cbaxes.xaxis.set_label_position = 'bottom'\n",
    "    cbaxes.xaxis.set_ticks_position = 'bottom'\n",
    "\n",
    "    ax.text(0.1, 0.15, str(result[\"input\"].short_description), ha='left')\n",
    "    #pyplot.tight_layout(pad=0)\n",
    "    #pyplot.show()\n",
    "    pyplot.savefig(output_folder +\n",
    "                   f\"{os.path.sep}Reach_Comparison_{output_number:02d}\")\n",
    "    pyplot.cla()\n",
    "    pyplot.clf()\n",
    "    pyplot.close('all')\n",
    "    pyplot.close(fig)\n"
   ]
  },
  {
   "cell_type": "code",
   "execution_count": null,
   "metadata": {},
   "outputs": [],
   "source": []
  }
 ],
 "metadata": {
  "interpreter": {
   "hash": "c97d3c898f82ae8c4086ccbe2f4770fc76e4ed3b0bc71af3c2e4e03068133404"
  },
  "kernelspec": {
   "display_name": "Python 3.9.6 64-bit ('my_v3_geo_env': conda)",
   "name": "python3"
  },
  "language_info": {
   "codemirror_mode": {
    "name": "ipython",
    "version": 3
   },
   "file_extension": ".py",
   "mimetype": "text/x-python",
   "name": "python",
   "nbconvert_exporter": "python",
   "pygments_lexer": "ipython3",
   "version": "3.6.9"
  },
  "orig_nbformat": 4
 },
 "nbformat": 4,
 "nbformat_minor": 2
}
