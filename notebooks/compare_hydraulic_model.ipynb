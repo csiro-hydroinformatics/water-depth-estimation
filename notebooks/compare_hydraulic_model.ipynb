{
 "cells": [
  {
   "cell_type": "markdown",
   "metadata": {},
   "source": [
    "This notebook runs simple, TVD, HAND, FwDET flood models for a set of reaches (defined by the class DefinitionsGenerator which can be specified in the .env file). The outputs are then compared against hydraulic model outputs to produce a set of comparison grids."
   ]
  },
  {
   "cell_type": "markdown",
   "metadata": {},
   "source": [
    "The total time to completion of 26 MDB scenes is around 16 hours (requires around 32GB ram)"
   ]
  },
  {
   "cell_type": "markdown",
   "metadata": {},
   "source": [
    "Create folders if they do not exist"
   ]
  },
  {
   "cell_type": "code",
   "execution_count": null,
   "metadata": {},
   "outputs": [],
   "source": [
    "from pathlib import Path\n",
    "import os\n",
    "from dotenv import load_dotenv\n",
    "load_dotenv()\n",
    "\n",
    "output_path_root = os.environ['OUTPUT_FOLDER_ROOT']\n",
    "print(output_path_root)\n",
    "Path(output_path_root +\n",
    "     f\"{os.path.sep}simple\").mkdir(parents=True, exist_ok=True)\n",
    "Path(output_path_root +\n",
    "     f\"{os.path.sep}hands\").mkdir(parents=True, exist_ok=True)\n",
    "Path(output_path_root + f\"{os.path.sep}tvd\").mkdir(parents=True, exist_ok=True)\n",
    "Path(output_path_root +\n",
    "     f\"{os.path.sep}fwdet\").mkdir(parents=True, exist_ok=True)\n",
    "Path(output_path_root +\n",
    "     f\"{os.path.sep}tvd\").mkdir(parents=True, exist_ok=True)\n"
   ]
  },
  {
   "cell_type": "markdown",
   "metadata": {},
   "source": [
    "Create FWDET outputs"
   ]
  },
  {
   "cell_type": "code",
   "execution_count": null,
   "metadata": {},
   "outputs": [],
   "source": [
    "from hydrological_connectivity.definitions.definitions_generator_factory import DefinitionsGeneratorFactory\n",
    "from hydrological_connectivity.processing.fwdet_task import FwdetTask\n",
    "from hydrological_connectivity.processing.compare_flood_rasters_rasterio import CompareFloodRastersRasterIo\n",
    "from hydrological_connectivity.processing.compare_flood_rasters_elev_rasterio import CompareFloodRastersElevRasterIo\n",
    "import logging\n",
    "logging.getLogger().setLevel('INFO')\n",
    "\n",
    "definition = DefinitionsGeneratorFactory.get_generator()\n",
    "definition.generate()\n",
    "tasks = []\n",
    "for fwdet_output in definition.fwdet_outputs:\n",
    "    try:\n",
    "        if (fwdet_output.exists('all')):\n",
    "            logging.info(f\"Already exists: {fwdet_output}\")\n",
    "            continue\n",
    "        logging.info(f\"Processing: {fwdet_output}\")\n",
    "        st = FwdetTask(fwdet_output)\n",
    "        st.execute()\n",
    "\n",
    "        hydr_model_output = fwdet_output.hydraulic_model.elevation_outputs[\n",
    "            fwdet_output.simulation_timespan['peak-event']]\n",
    "        compare_water_height = CompareFloodRastersElevRasterIo(\n",
    "            hydr_model_output,\n",
    "            fwdet_output.output_path,\n",
    "            fwdet_output.dem_path,\n",
    "            fwdet_output.region_of_interest_albers,\n",
    "            fwdet_output.output_path.replace(\".tif\", \"_comparison_elev.tif\"))\n",
    "        compare_water_height.execute()\n",
    "\n",
    "        hydr_model_output = fwdet_output.hydraulic_model.depth_outputs[\n",
    "            fwdet_output.simulation_timespan['peak-event']]\n",
    "        logging.info(f\"truth - {hydr_model_output}\")\n",
    "        compare_water_height = CompareFloodRastersRasterIo(\n",
    "            hydr_model_output,\n",
    "            fwdet_output.output_path,\n",
    "            fwdet_output.region_of_interest_albers,\n",
    "            fwdet_output.output_path.replace(\".tif\", \"_comparison.tif\"))\n",
    "        compare_water_height.execute()\n",
    "    except:\n",
    "        logging.exception(f\"Raised an error with {fwdet_output}\")\n",
    "        # st.save_input_to_disk()\n"
   ]
  },
  {
   "cell_type": "markdown",
   "metadata": {},
   "source": [
    "Create TVD outputs"
   ]
  },
  {
   "cell_type": "code",
   "execution_count": null,
   "metadata": {},
   "outputs": [],
   "source": [
    "from hydrological_connectivity.definitions.definitions_generator_factory import DefinitionsGeneratorFactory\n",
    "from hydrological_connectivity.processing.compare_flood_rasters_rasterio import CompareFloodRastersRasterIo\n",
    "from hydrological_connectivity.processing.compare_flood_rasters_elev_rasterio import CompareFloodRastersElevRasterIo\n",
    "from hydrological_connectivity.processing.tvd_task import TvdTask\n",
    "import logging\n",
    "logging.getLogger().setLevel('INFO')\n",
    "definition = DefinitionsGeneratorFactory.get_generator()\n",
    "definition.generate()\n",
    "tasks = []\n",
    "for tvd_output in definition.tvd_outputs:\n",
    "    try:\n",
    "        if (tvd_output.exists('ind')):\n",
    "            logging.info(f\"Already exists: {tvd_output}\")\n",
    "            continue\n",
    "        logging.info(f\"Processing: {tvd_output}\")\n",
    "        st = TvdTask(tvd_output)\n",
    "        st.execute()\n",
    "\n",
    "        hydr_model_output = tvd_output.hydraulic_model.elevation_outputs[\n",
    "            tvd_output.simulation_timespan['peak-event']]\n",
    "        compare_water_height = CompareFloodRastersElevRasterIo(\n",
    "            hydr_model_output,\n",
    "            tvd_output.output_path.replace(\".tif\", \"_all.tif\"),\n",
    "            tvd_output.dem_path,\n",
    "            tvd_output.region_of_interest_albers,\n",
    "            tvd_output.output_path.replace(\".tif\", \"_all_comparison_elev.tif\"))\n",
    "        compare_water_height.execute()\n",
    "        compare_water_height = CompareFloodRastersElevRasterIo(\n",
    "            hydr_model_output,\n",
    "            tvd_output.output_path.replace(\".tif\", \"_ind.tif\"),\n",
    "            tvd_output.dem_path,\n",
    "            tvd_output.region_of_interest_albers,\n",
    "            tvd_output.output_path.replace(\".tif\", \"_ind_comparison_elev.tif\"))\n",
    "        compare_water_height.execute()\n",
    "\n",
    "        hydr_model_output = tvd_output.hydraulic_model.depth_outputs[\n",
    "            tvd_output.simulation_timespan['peak-event']]\n",
    "        compare_water_height = CompareFloodRastersRasterIo(\n",
    "            hydr_model_output,\n",
    "            tvd_output.output_path.replace(\".tif\", \"_all.tif\"),\n",
    "            tvd_output.region_of_interest_albers,\n",
    "            tvd_output.output_path.replace(\".tif\", \"_all_comparison.tif\"))\n",
    "        compare_water_height.execute()\n",
    "        compare_water_height = CompareFloodRastersRasterIo(\n",
    "            hydr_model_output,\n",
    "            tvd_output.output_path.replace(\".tif\", \"_ind.tif\"),\n",
    "            tvd_output.region_of_interest_albers,\n",
    "            tvd_output.output_path.replace(\".tif\", \"_ind_comparison.tif\"))\n",
    "        compare_water_height.execute()\n",
    "    except:\n",
    "        logging.exception(f\"Raised an error with {tvd_output}\")\n"
   ]
  },
  {
   "cell_type": "markdown",
   "metadata": {},
   "source": [
    "Create hand outputs for different accumulation thresholds"
   ]
  },
  {
   "cell_type": "code",
   "execution_count": null,
   "metadata": {},
   "outputs": [],
   "source": [
    "from hydrological_connectivity.processing.hand_task import HandTask\n",
    "from hydrological_connectivity.definitions.definitions_generator_factory import DefinitionsGeneratorFactory\n",
    "from hydrological_connectivity.processing.compare_flood_rasters_elev_rasterio import CompareFloodRastersElevRasterIo\n",
    "from hydrological_connectivity.processing.compare_flood_rasters_rasterio import CompareFloodRastersRasterIo\n",
    "import logging\n",
    "logging.getLogger().setLevel('INFO')\n",
    "\n",
    "definition = DefinitionsGeneratorFactory.get_generator()\n",
    "definition.generate()\n",
    "tasks=[]\n",
    "accumulation_thresholds = [3000000, 1000000, 500000, 100000]\n",
    "for hand_output in definition.hand_outputs:  \n",
    "    for accumulation_threshold in accumulation_thresholds:\n",
    "        try:\n",
    "            if (hand_output.exists(accumulation_threshold, 'dep_comparison_elev')):\n",
    "                logging.info(f\"Already exists: {hand_output}\")\n",
    "                continue\n",
    "            logging.info(f\"Processing: {hand_output}\")\n",
    "            ht = HandTask(hand_output)\n",
    "            ht.accumulation_threshold = accumulation_threshold\n",
    "            ht.execute()\n",
    "            \n",
    "            hydr_model_output = hand_output.hydraulic_model.elevation_outputs[\n",
    "                hand_output.simulation_timespan['peak-event']]\n",
    "            compare_water_height = CompareFloodRastersElevRasterIo(\n",
    "                hydr_model_output,\n",
    "                hand_output.output_path.replace(\n",
    "                    \".tif\", f\"_dep_{str(accumulation_threshold)}.tif\"),\n",
    "                hand_output.dem_path,\n",
    "                hand_output.region_of_interest_albers,\n",
    "                hand_output.output_path.replace(\".tif\", f\"_dep_comparison_elev_{str(accumulation_threshold)}.tif\"))\n",
    "            compare_water_height.execute()\n",
    "\n",
    "            hydr_model_output = hand_output.hydraulic_model.depth_outputs[\n",
    "                hand_output.simulation_timespan['peak-event']]\n",
    "            compare_water_height = CompareFloodRastersRasterIo(\n",
    "                hydr_model_output,\n",
    "                hand_output.output_path.replace(\n",
    "                    \".tif\", f\"_dep_{str(accumulation_threshold)}.tif\"),\n",
    "                hand_output.region_of_interest_albers,\n",
    "                hand_output.output_path.replace(\".tif\", f\"_dep_comparison_{str(accumulation_threshold)}.tif\"))\n",
    "            compare_water_height.execute()\n",
    "        except:\n",
    "            logging.exception(f\"Raised an error with {hand_output}\")\n"
   ]
  },
  {
   "cell_type": "code",
   "execution_count": null,
   "metadata": {},
   "outputs": [],
   "source": []
  }
 ],
 "metadata": {
  "interpreter": {
   "hash": "4c4f0e51b7554e248cceb5c2b9173e48e1ec03b89cb2754c7ccf7e560e9a5cb6"
  },
  "kernelspec": {
   "display_name": "Python 3.9.6 ('my_v3_geo_env')",
   "language": "python",
   "name": "python3"
  },
  "language_info": {
   "codemirror_mode": {
    "name": "ipython",
    "version": 3
   },
   "file_extension": ".py",
   "mimetype": "text/x-python",
   "name": "python",
   "nbconvert_exporter": "python",
   "pygments_lexer": "ipython3",
   "version": "3.9.6"
  },
  "orig_nbformat": 4
 },
 "nbformat": 4,
 "nbformat_minor": 2
}
