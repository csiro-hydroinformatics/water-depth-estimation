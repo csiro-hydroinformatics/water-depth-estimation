{
 "cells": [
  {
   "cell_type": "markdown",
   "metadata": {},
   "source": [
    "  \n",
    "# Water Depth Estimation using Remote Sensing and DEM\n",
    "## Simplistic method\n",
    " \n",
    "**Author:** Jin Teng (jin.teng@csiro.au)\n",
    "\n",
    "**Compatability:** Notebook currently compatible with the NCI.\n",
    "\n",
    "**Dependencies:** The code below requires installation of following packages:\n",
    "\n",
    "    rasterio\n",
    "    numpy\n",
    "    scipy\n",
    "\n",
    "\n",
    "## Description\n",
    "\n",
    "This is a simplistic tool that estimate water depth from satellite imagery and DEM. It is developed to add value to remote sensing (RS) analysis by calculating water depth based solely on an inundation map with an associated digital elevation model (DEM).\n",
    "\n",
    "The main steps of the algorithm are:\n",
    "\n",
    "    (1) extract the polygons for the inundation extent from the raster; \n",
    "    (2) extract the DEM value (elevation) for these polygons;\n",
    "    (3) calculate the maximum elevation for each and all polygons;\n",
    "    (4) calculate floodwater depth by subtracting topographic elevation from the maximum elevation.\n",
    "\n",
    "We have included a run-down of the tool that is demonstrated in the notebook. \n",
    "\n",
    "## Getting started\n",
    "\n",
    "To run this analysis, run all the cells in the notebook, starting with the \"Load packages\" cell.\n",
    "\n",
    "## Load packages\n",
    "\n",
    "Import Python packages that are used for the analysis."
   ]
  },
  {
   "cell_type": "code",
   "execution_count": null,
   "metadata": {},
   "outputs": [],
   "source": [
    "%matplotlib inline\n",
    "import matplotlib.pyplot as plt\n",
    "import os\n",
    "import time\n",
    "import rasterio\n",
    "import numpy as np\n",
    "from sklearn.neighbors import KNeighborsRegressor\n",
    "from scipy import ndimage"
   ]
  },
  {
   "cell_type": "markdown",
   "metadata": {},
   "source": [
    "## Set input variables"
   ]
  },
  {
   "cell_type": "code",
   "execution_count": null,
   "metadata": {},
   "outputs": [],
   "source": [
    "FloodExtent_tif = os.path.join('data', 'FloodExtent_modified.tif')\n",
    "DEM_tif = os.path.join('data', 'Elevation.tif')\n",
    "output_path = os.path.join('data', 'output_wd_simplistic_all.tif')\n",
    "WOfS_nodata_value = 0\n",
    "WOfS_dry_value = 2\n",
    "WOfS_wet_value = 3\n"
   ]
  },
  {
   "cell_type": "code",
   "execution_count": null,
   "metadata": {},
   "outputs": [],
   "source": [
    "print(os. getcwd())"
   ]
  },
  {
   "cell_type": "markdown",
   "metadata": {},
   "source": [
    "## Read flood extent raster"
   ]
  },
  {
   "cell_type": "code",
   "execution_count": null,
   "metadata": {},
   "outputs": [],
   "source": [
    "start_time = time.time()\n",
    "with rasterio.open(FloodExtent_tif) as src:\n",
    "    flood_extent = src.read(1)\n",
    "out_mask = flood_extent!=WOfS_wet_value\n",
    "wet = np.where(flood_extent==WOfS_wet_value,1,0)\n",
    "print(\"--- %s seconds ---\" % (time.time() - start_time))\n",
    "plt.figure(figsize=(10,8))\n",
    "plt.imshow(flood_extent)\n",
    "plt.colorbar(label='Water occurance')\n",
    "plt.title('Flood Extent map')"
   ]
  },
  {
   "cell_type": "markdown",
   "metadata": {},
   "source": [
    "## Group the flood extent into polygons"
   ]
  },
  {
   "cell_type": "code",
   "execution_count": null,
   "metadata": {},
   "outputs": [],
   "source": [
    "structure = np.ones((3, 3))\n",
    "groups, num_ids = ndimage.label(wet, structure=structure)\n",
    "group_ids = np.arange(0, num_ids + 1)\n",
    "plt.figure(figsize=(10,8))\n",
    "plt.imshow(groups,cmap='jet')\n",
    "plt.colorbar()"
   ]
  },
  {
   "cell_type": "markdown",
   "metadata": {},
   "source": [
    "## Calculating water depth using all and individual polygon"
   ]
  },
  {
   "cell_type": "code",
   "execution_count": null,
   "metadata": {},
   "outputs": [],
   "source": [
    "with rasterio.open(DEM_tif) as src_dem:\n",
    "    dem = src_dem.read(1, masked = True)\n",
    "\n",
    "# All\n",
    "max = np.max(wet * dem)\n",
    "water_depth_a = max - dem\n",
    "water_depth_a[water_depth_a<0] = 0\n",
    "water_depth_a =np.ma.masked_where(out_mask, water_depth_a)\n",
    "# Individual\n",
    "groups_max = ndimage.maximum(dem, groups, group_ids) \n",
    "water_depth_i = np.array([groups_max[x] for x in groups]) - dem\n",
    "water_depth_i[water_depth_i<0] = 0\n",
    "water_depth_i =np.ma.masked_where(out_mask, water_depth_i)\n",
    "plt.figure(figsize=(10,6))\n",
    "plt.subplot(121)\n",
    "plt.imshow(water_depth_a, cmap='terrain')\n",
    "plt.colorbar(label='Water depth')\n",
    "plt.title('All')\n",
    "plt.subplot(122)\n",
    "plt.imshow(water_depth_i,cmap='terrain')\n",
    "plt.title('Individual')\n",
    "plt.colorbar(label='Water depth')\n",
    "#plt.legend((fig[0]), ('a'),\n",
    "#           fontsize=12, ncol=1, framealpha=0, fancybox=True)\n"
   ]
  },
  {
   "cell_type": "markdown",
   "metadata": {},
   "source": [
    "## Write outputs"
   ]
  },
  {
   "cell_type": "code",
   "execution_count": null,
   "metadata": {},
   "outputs": [],
   "source": [
    "waterdepth_path = os.path.join(os.path.dirname(output_path), 'output_wd_simplistic_all.tif')\n",
    "with rasterio.open(\n",
    "    waterdepth_path, 'w',\n",
    "    driver='GTiff',\n",
    "    dtype=water_depth_a.dtype,\n",
    "    count=1,\n",
    "    nodata=np.nan,\n",
    "    transform = src_dem.transform,\n",
    "    width=src_dem.width,\n",
    "    height=src_dem.height) as dst:\n",
    "    dst.write(water_depth_a, indexes=1)\n",
    "waterdepth_path = os.path.join(os.path.dirname(output_path), 'output_wd_simplistic_individual.tif')\n",
    "with rasterio.open(\n",
    "    waterdepth_path, 'w',\n",
    "    driver='GTiff',\n",
    "    dtype=water_depth_i.dtype,\n",
    "    count=1,\n",
    "    nodata=np.nan,\n",
    "    transform = src_dem.transform,\n",
    "    width=src_dem.width,\n",
    "    height=src_dem.height) as dst:\n",
    "    dst.write(water_depth_i, indexes=1)"
   ]
  },
  {
   "cell_type": "code",
   "execution_count": null,
   "metadata": {},
   "outputs": [],
   "source": []
  }
 ],
 "metadata": {
  "interpreter": {
   "hash": "c97d3c898f82ae8c4086ccbe2f4770fc76e4ed3b0bc71af3c2e4e03068133404"
  },
  "kernelspec": {
   "display_name": "Python 3 (ipykernel)",
   "language": "python",
   "name": "python3"
  },
  "language_info": {
   "codemirror_mode": {
    "name": "ipython",
    "version": 3
   },
   "file_extension": ".py",
   "mimetype": "text/x-python",
   "name": "python",
   "nbconvert_exporter": "python",
   "pygments_lexer": "ipython3",
   "version": "3.7.12"
  }
 },
 "nbformat": 4,
 "nbformat_minor": 4
}
